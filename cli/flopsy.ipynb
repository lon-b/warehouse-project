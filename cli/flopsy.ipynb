{
 "cells": [
  {
   "cell_type": "code",
   "execution_count": 4,
   "metadata": {},
   "outputs": [],
   "source": [
    "class Choosinator:\n",
    "    \n",
    "    def __init__(self):\n",
    "        pass\n",
    "\n",
    "    def name_asker(self):\n",
    "        user_name = input(\"Greetings, what is your user name? \")\n",
    "        return user_name\n",
    "\n",
    "    def options_list(self):\n",
    "        options = [\"1. List items by warehouse\", \"2. Search an item and place an order\", \"3. Quit\"]\n",
    "        for option in options:\n",
    "            print(option)\n",
    "\n",
    "    def chosen_option(self, user_name):\n",
    "        chosen_option = input(\"Type the number of the option you'd like to choose: \")\n",
    "        if chosen_option == \"1\":\n",
    "            print(\"chose 1\")\n",
    "        elif chosen_option == \"2\":\n",
    "            print(\"chose 2\")\n",
    "        elif chosen_option == \"3\":\n",
    "            print(\"chose 3\")\n",
    "        else:\n",
    "            input(\"problem; please choose an option from the list by typing 1, 2 or 3 and push the enter key: \")\n",
    "        return print(f\"Thank you for your visit, {user_name}\")\n"
   ]
  },
  {
   "cell_type": "code",
   "execution_count": null,
   "metadata": {},
   "outputs": [],
   "source": [
    "class Choosinator:\n",
    "    \n",
    "    def __init__(self):\n",
    "        pass\n",
    "\n",
    "    def name_asker(self):\n",
    "        user_name = input(\"Greetings, what is your user name? \")\n",
    "        return user_name\n",
    "\n",
    "    def options_list(self):\n",
    "        options = [\"1. List items by warehouse\", \"2. Search an item and place an order\", \"3. Quit\"]\n",
    "        for option in options:\n",
    "            print(option)\n",
    "\n",
    "    def chosen_option(self, user_name):\n",
    "        chosen_option = input(\"Type the number of the option you'd like to choose: \")\n",
    "        if chosen_option == \"1\":\n",
    "            print(\"chose 1\")\n",
    "        elif chosen_option == \"2\":\n",
    "            print(\"chose 2\")\n",
    "        elif chosen_option == \"3\":\n",
    "            print(\"chose 3\")\n",
    "        else:\n",
    "            input(\"problem; please choose an option from the list by typing 1, 2 or 3 and push the enter key: \")\n",
    "        return print(f\"Thank you for your visit, {user_name}\")"
   ]
  },
  {
   "cell_type": "code",
   "execution_count": 6,
   "metadata": {},
   "outputs": [
    {
     "name": "stdout",
     "output_type": "stream",
     "text": [
      "Hello, a!\n",
      "What would you like to do?\n",
      "1. List items by warehouse\n",
      "2. Search an item and place an order\n",
      "3. Quit\n",
      "Warehouse 1 has 0 hat and Warehouse 2 has 0 hat. Total: 0\n",
      "Not in stock.\n"
     ]
    }
   ],
   "source": [
    "from data import warehouse1, warehouse2\n",
    "import sys\n",
    "\n",
    "username = input(\"What is your user name? \")\n",
    "\n",
    "# Greet the user\n",
    "print(f\"Hello, {username}!\")\n",
    "\n",
    "# Show the menu and ask to pick a choice\n",
    "print(\"What would you like to do?\")\n",
    "\n",
    "options = [\"1. List items by warehouse\", \"2. Search an item and place an order\", \"3. Quit\"]\n",
    "for option in options:\n",
    "    print(option)\n",
    "\n",
    "chosen_option = input(\"Type the number of the option you'd like to choose: \")\n",
    "\n",
    "if chosen_option == \"1\":\n",
    "    print(\"Items in Warehouse 1: \", *warehouse1, sep=\"\\n- \")\n",
    "    print(\"\")\n",
    "    print(\"Items in Warehouse 2: \", *warehouse2, sep=\"\\n- \")\n",
    "    print(\"\")\n",
    "    print(f\"Thank you for your visit, {username}!\")\n",
    "elif chosen_option == \"2\":\n",
    "    search_query = input(\"What is the name of the item? name must be exact! \")\n",
    "    total_amount_of_search = warehouse1.count(search_query) + warehouse2.count(search_query)\n",
    "    print(f\"Warehouse 1 has {warehouse1.count(search_query)} {search_query} and Warehouse 2 has {warehouse2.count(search_query)} {search_query}. Total: {total_amount_of_search}\")\n",
    "    if warehouse1.count(search_query) == 0 and warehouse2.count(search_query) == 0:\n",
    "        print(\"Not in stock.\")\n",
    "elif chosen_option == \"3\":\n",
    "    print(\"chose 3\")\n",
    "else:\n",
    "    input(\"Problem; please choose an option from the list by typing 1, 2 or 3 and push the enter key: \")\n"
   ]
  },
  {
   "cell_type": "code",
   "execution_count": 14,
   "metadata": {},
   "outputs": [
    {
     "name": "stdout",
     "output_type": "stream",
     "text": [
      "Hello, a!\n",
      "What would you like to do?\n",
      "1. List items by warehouse\n",
      "2. Search an item and place an order\n",
      "3. Quit\n",
      "Warehouse 1 has 3 Cheap monitor(s), Warehouse 2 has 1 Cheap monitor(s). Total: 4(s).\n"
     ]
    }
   ],
   "source": [
    "from data import warehouse1, warehouse2\n",
    "import sys\n",
    "\n",
    "username = input(\"What is your user name? \")\n",
    "\n",
    "# Greet the user\n",
    "print(f\"Hello, {username}!\")\n",
    "\n",
    "# Show the menu and ask to pick a choice\n",
    "print(\"What would you like to do?\")\n",
    "\n",
    "options = [\"1. List items by warehouse\", \"2. Search an item and place an order\", \"3. Quit\"]\n",
    "for option in options:\n",
    "    print(option)\n",
    "\n",
    "chosen_option = input(\"Type the number of the option you'd like to choose: \")\n",
    "\n",
    "if chosen_option == \"1\":\n",
    "    print(\"Items in Warehouse 1: \", *warehouse1, sep=\"\\n- \")\n",
    "    print(\"\")\n",
    "    print(\"Items in Warehouse 2: \", *warehouse2, sep=\"\\n- \")\n",
    "    print(\"\")\n",
    "    print(f\"Thank you for your visit, {username}!\")\n",
    "elif chosen_option == \"2\":\n",
    "    search_query = input(\"What is the name of the item? name must be exact! \")\n",
    "    total_count = warehouse1.count(search_query) + warehouse2.count(search_query)\n",
    "    count_warehouse1 = warehouse1.count(search_query)\n",
    "    count_warehouse2 = warehouse2.count(search_query)\n",
    "\n",
    "    if count_warehouse1 > 0 or count_warehouse2 > 0:\n",
    "        print(f\"Warehouse 1 has {count_warehouse1} {search_query}(s), Warehouse 2 has {count_warehouse2} {search_query}(s). Total: {total_count}\")\n",
    "    else:\n",
    "        print(\"Not in stock.\")\n",
    "\n",
    "elif chosen_option == \"3\":\n",
    "    print(\"chose 3\")\n",
    "else:\n",
    "    input(\"Problem; please choose an option from the list by typing 1, 2 or 3 and push the enter key: \")"
   ]
  }
 ],
 "metadata": {
  "kernelspec": {
   "display_name": "venv",
   "language": "python",
   "name": "python3"
  },
  "language_info": {
   "codemirror_mode": {
    "name": "ipython",
    "version": 3
   },
   "file_extension": ".py",
   "mimetype": "text/x-python",
   "name": "python",
   "nbconvert_exporter": "python",
   "pygments_lexer": "ipython3",
   "version": "3.10.12"
  }
 },
 "nbformat": 4,
 "nbformat_minor": 2
}
